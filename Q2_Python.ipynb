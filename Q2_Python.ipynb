{
 "cells": [
  {
   "cell_type": "code",
   "execution_count": 2,
   "id": "2e3bf3d3",
   "metadata": {},
   "outputs": [
    {
     "name": "stdout",
     "output_type": "stream",
     "text": [
      "Enter a string: write write write all the number from from from 1 to 100\n",
      "['write', 'from']\n",
      "Length of the word with the highest frequency: 5\n"
     ]
    }
   ],
   "source": [
    "def get_length_of_highest_frequency_word():\n",
    "    # Get user input for the string\n",
    "    string = input(\"Enter a string: \")\n",
    "\n",
    "    # Split the string into individual words\n",
    "    words = string.split()\n",
    "\n",
    "    # Create a dictionary to store the word frequencies\n",
    "    word_counts = {}\n",
    "\n",
    "    # Count the frequency of each word\n",
    "    for word in words:\n",
    "        if word in word_counts:\n",
    "            word_counts[word] += 1\n",
    "        else:\n",
    "            word_counts[word] = 1\n",
    "\n",
    "    # Find the highest frequency\n",
    "    max_frequency = max(word_counts.values())\n",
    "\n",
    "    # Find the length of the word with the highest frequency\n",
    "    highest_frequency_word = [word for word, count in word_counts.items() if count == max_frequency]\n",
    "    print(highest_frequency_word)\n",
    "    highest_frequency_length = len(highest_frequency_word[0])\n",
    "\n",
    "    return highest_frequency_length\n",
    "\n",
    "# Call the function and print the result\n",
    "result = get_length_of_highest_frequency_word()\n",
    "print(\"Length of the word with the highest frequency:\", result)"
   ]
  },
  {
   "cell_type": "code",
   "execution_count": null,
   "id": "c12420c3",
   "metadata": {},
   "outputs": [],
   "source": []
  }
 ],
 "metadata": {
  "kernelspec": {
   "display_name": "Python 3 (ipykernel)",
   "language": "python",
   "name": "python3"
  },
  "language_info": {
   "codemirror_mode": {
    "name": "ipython",
    "version": 3
   },
   "file_extension": ".py",
   "mimetype": "text/x-python",
   "name": "python",
   "nbconvert_exporter": "python",
   "pygments_lexer": "ipython3",
   "version": "3.9.12"
  }
 },
 "nbformat": 4,
 "nbformat_minor": 5
}
