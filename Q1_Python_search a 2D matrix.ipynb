{
 "cells": [
  {
   "cell_type": "markdown",
   "id": "29846993",
   "metadata": {},
   "source": [
    "This is the class created using Binary Search logic. Initially 2 pointers were defined random. The target is set to average of these two. If the average value is greater than the target then the pointer is reseted to new position. In the similar way the logic is being carried out."
   ]
  },
  {
   "cell_type": "code",
   "execution_count": 6,
   "id": "66cbf2de",
   "metadata": {},
   "outputs": [],
   "source": [
    "class Solution(object):\n",
    "    def searchMatrix(self, matrix, target):\n",
    "        \"\"\"\n",
    "        :type matrix: List[List[int]]\n",
    "        :type target: int\n",
    "        :rtype: bool\n",
    "        \"\"\"\n",
    "        ROWS, COLS = len(matrix), len(matrix[0])\n",
    "\n",
    "        top, bot = 0, ROWS-1\n",
    "        while top <=bot:\n",
    "            row = (top+bot)//2\n",
    "            if target > matrix[row][-1]:\n",
    "                top =row+1\n",
    "            elif target < matrix[row][0]:\n",
    "                bot = row-1\n",
    "            else:\n",
    "                break\n",
    "        if not (top<=bot):\n",
    "            return False\n",
    "        row = (top+bot)//2\n",
    "        l, r = 0, COLS-1\n",
    "        while l<=r:\n",
    "            m = (l+r)//2\n",
    "            if target > matrix[row][m]:\n",
    "                l =  m+1\n",
    "            elif target < matrix[row][m]:\n",
    "                r =  m-1\n",
    "            else:\n",
    "                return True\n",
    "        return False        "
   ]
  },
  {
   "cell_type": "code",
   "execution_count": 7,
   "id": "424a94e1",
   "metadata": {},
   "outputs": [
    {
     "data": {
      "text/plain": [
       "True"
      ]
     },
     "execution_count": 7,
     "metadata": {},
     "output_type": "execute_result"
    }
   ],
   "source": [
    "sol = Solution()\n",
    "sol.searchMatrix([[1,3,5,7],[10,11,16,20],[23,30,34,60]],3)"
   ]
  },
  {
   "cell_type": "code",
   "execution_count": null,
   "id": "839aade7",
   "metadata": {},
   "outputs": [],
   "source": []
  }
 ],
 "metadata": {
  "kernelspec": {
   "display_name": "Python 3 (ipykernel)",
   "language": "python",
   "name": "python3"
  },
  "language_info": {
   "codemirror_mode": {
    "name": "ipython",
    "version": 3
   },
   "file_extension": ".py",
   "mimetype": "text/x-python",
   "name": "python",
   "nbconvert_exporter": "python",
   "pygments_lexer": "ipython3",
   "version": "3.9.12"
  }
 },
 "nbformat": 4,
 "nbformat_minor": 5
}
